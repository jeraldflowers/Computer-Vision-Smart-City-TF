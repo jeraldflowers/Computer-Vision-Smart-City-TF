{
  "nbformat": 4,
  "nbformat_minor": 0,
  "metadata": {
    "colab": {
      "provenance": [],
      "authorship_tag": "ABX9TyMXE4Sa6R826qbR8M3Gx8d0",
      "include_colab_link": true
    },
    "kernelspec": {
      "name": "python3",
      "display_name": "Python 3"
    },
    "language_info": {
      "name": "python"
    }
  },
  "cells": [
    {
      "cell_type": "markdown",
      "metadata": {
        "id": "view-in-github",
        "colab_type": "text"
      },
      "source": [
        "<a href=\"https://colab.research.google.com/github/jeraldflowers/Computer-Vision-Smart-City-TF/blob/main/distribution_dataset.ipynb\" target=\"_parent\"><img src=\"https://colab.research.google.com/assets/colab-badge.svg\" alt=\"Open In Colab\"/></a>"
      ]
    },
    {
      "cell_type": "code",
      "execution_count": null,
      "metadata": {
        "id": "X8sY4Q0C5E2p"
      },
      "outputs": [],
      "source": [
        "import os\n",
        "import zipfile\n",
        "\n",
        "local_zip = \"dataset_original_.zip\"\n",
        "zip_ref = zipfile.ZipFile(local_zip, \"r\")\n",
        "zip_ref.extractall(\"dataset\")\n",
        "zip_ref.close()"
      ]
    },
    {
      "cell_type": "code",
      "source": [
        "path = \"dataset/dataset_original_2\"\n",
        "content = os.listdir(path)"
      ],
      "metadata": {
        "id": "h18yJAYh6HhY"
      },
      "execution_count": null,
      "outputs": []
    },
    {
      "cell_type": "code",
      "source": [
        "content"
      ],
      "metadata": {
        "id": "AOHkefkj6UsY"
      },
      "execution_count": null,
      "outputs": []
    },
    {
      "cell_type": "code",
      "source": [
        "path_general = \"datasetFinal\"\n",
        "path_train = \"{}/train\".format(path_general)\n",
        "path_test = \"{}/test\".format(path_general)\n",
        "\n",
        "os.mkdir(path_general)\n",
        "os.mkdir(path_train)\n",
        "os.mkdir(path_test)"
      ],
      "metadata": {
        "id": "sFZOrSZD6WUC"
      },
      "execution_count": null,
      "outputs": []
    },
    {
      "cell_type": "code",
      "source": [
        "import random\n",
        "import shutil\n",
        "\n",
        "train = 0.7\n",
        "for nCount in range(int(len(content)*train)):\n",
        "  random_choice_img = random.choice(content)\n",
        "  random_choice_img_abs = \"{}/{}\".format(path, random_choice_img)\n",
        "  target_img = \"{}/{}\".format(path_train, random_choice_img)\n",
        "  shutil.copyfile(random_choice_img_abs, target_img)\n",
        "  content.remove(random_choice_img)\n"
      ],
      "metadata": {
        "id": "cnsy5AVe64ik"
      },
      "execution_count": null,
      "outputs": []
    },
    {
      "cell_type": "code",
      "source": [
        "for img in content:\n",
        "  random_choice_img_abs = \"{}/{}\".format(path, img)\n",
        "  target_img = \"{}/{}\".format(path_test, img)\n",
        "  shutil.copyfile(random_choice_img_abs, target_img)"
      ],
      "metadata": {
        "id": "rYCKWfui7_hp"
      },
      "execution_count": null,
      "outputs": []
    },
    {
      "cell_type": "code",
      "source": [
        "!zip -r /content/datasetReady.zip /content/datasetFinal"
      ],
      "metadata": {
        "id": "PKbjhRTm8Ynr"
      },
      "execution_count": null,
      "outputs": []
    },
    {
      "cell_type": "code",
      "source": [],
      "metadata": {
        "id": "1Y497QZL8qiV"
      },
      "execution_count": null,
      "outputs": []
    }
  ]
}